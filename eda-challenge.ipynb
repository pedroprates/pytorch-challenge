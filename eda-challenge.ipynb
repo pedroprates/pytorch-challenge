{
 "cells": [
  {
   "cell_type": "code",
   "execution_count": 36,
   "metadata": {},
   "outputs": [],
   "source": [
    "import numpy as np\n",
    "import imageio\n",
    "import os\n",
    "import json\n",
    "import matplotlib.pyplot as plt\n",
    "\n",
    "%matplotlib notebook"
   ]
  },
  {
   "cell_type": "markdown",
   "metadata": {},
   "source": [
    "# Exploratory Data Analysis\n",
    "\n",
    "Exploring the data of the Final Challenge of the **Pytorch Facebook Challenge**. The final project consist on a classifier that should be trained on the provided dataset, that contains images of 102 different species of flower. \n",
    "\n",
    "The dataset was provided by the Udacity's team."
   ]
  },
  {
   "cell_type": "code",
   "execution_count": 6,
   "metadata": {},
   "outputs": [],
   "source": [
    "valid_list = os.listdir('data/flower_data/valid')\n",
    "train_list = os.listdir('data/flower_data/train')"
   ]
  },
  {
   "cell_type": "code",
   "execution_count": 37,
   "metadata": {},
   "outputs": [],
   "source": [
    "# Dict with cat name and idx\n",
    "with open('data/cat_to_name.json') as f:\n",
    "    cat_to_name = json.load(f)"
   ]
  },
  {
   "cell_type": "code",
   "execution_count": 29,
   "metadata": {},
   "outputs": [
    {
     "name": "stdout",
     "output_type": "stream",
     "text": [
      "The valid dataset contains 102 folders.\n",
      "The train dataset contains 102 folders.\n",
      "\n",
      "It should have one folder for each flower class.\n"
     ]
    }
   ],
   "source": [
    "print(f'The valid dataset contains {len(valid_list)} folders.\\nThe train dataset contains {len(train_list)} folders.')\n",
    "\n",
    "print(f'\\nIt should have one folder for each flower class.')"
   ]
  },
  {
   "cell_type": "code",
   "execution_count": 38,
   "metadata": {},
   "outputs": [],
   "source": [
    "import collections\n",
    "\n",
    "base_path = 'data/flower_data/train/'\n",
    "\n",
    "# Getting the number of images per category\n",
    "number_of_images = {}\n",
    "\n",
    "for cat in train_list:\n",
    "    number_of_images[cat_to_name[cat]] = len(os.listdir(base_path + cat))"
   ]
  },
  {
   "cell_type": "code",
   "execution_count": 39,
   "metadata": {},
   "outputs": [
    {
     "name": "stdout",
     "output_type": "stream",
     "text": [
      "We have a mean of 64.24 images per flower category.\n"
     ]
    }
   ],
   "source": [
    "mean_images_per_cat = sum(number_of_images.values()) / len(number_of_images.values())\n",
    "\n",
    "print('We have a mean of %.2f images per flower category.' % mean_images_per_cat)"
   ]
  },
  {
   "cell_type": "code",
   "execution_count": 49,
   "metadata": {},
   "outputs": [
    {
     "name": "stdout",
     "output_type": "stream",
     "text": [
      "The minimum amount of flowers that a category has is 27, and there is 1 with this amount:\n",
      "\tpink primrose\n",
      "The maximum amount of flowers that a category has is 206, and there is 1 with this amount:\n",
      "\tpetunia\n"
     ]
    }
   ],
   "source": [
    "list_number_of_images = list(number_of_images.values())\n",
    "\n",
    "max_number = np.max(list_number_of_images)\n",
    "min_number = np.min(list_number_of_images)\n",
    "\n",
    "max_flower = []\n",
    "min_flower = []\n",
    "\n",
    "for k, v in number_of_images.items():\n",
    "    if v == max_number:\n",
    "        max_flower.append(k)\n",
    "    \n",
    "    if v == min_number:\n",
    "        min_flower.append(k)\n",
    "        \n",
    "print(f'The minimum amount of flowers that a category has is {min_images}, and there is {len(min_flower)} with this amount:')\n",
    "for v in min_flower:\n",
    "    print('\\t' + v)\n",
    "    \n",
    "print(f'The maximum amount of flowers that a category has is {max_images}, and there is {len(max_flower)} with this amount:')\n",
    "for v in max_flower:\n",
    "    print('\\t' + v)"
   ]
  }
 ],
 "metadata": {
  "kernelspec": {
   "display_name": "Python 3",
   "language": "python",
   "name": "python3"
  },
  "language_info": {
   "codemirror_mode": {
    "name": "ipython",
    "version": 3
   },
   "file_extension": ".py",
   "mimetype": "text/x-python",
   "name": "python",
   "nbconvert_exporter": "python",
   "pygments_lexer": "ipython3",
   "version": "3.7.1"
  }
 },
 "nbformat": 4,
 "nbformat_minor": 2
}
